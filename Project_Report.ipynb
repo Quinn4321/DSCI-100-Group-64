{
 "cells": [
  {
   "cell_type": "markdown",
   "id": "a8049459-e6a5-4c42-a5b4-4d6ea8c7909b",
   "metadata": {},
   "source": [
    "**Group Project Report: Pulsar Star Classification**\n",
    "==================="
   ]
  },
  {
   "cell_type": "markdown",
   "id": "5dc950a3-d6fb-4bbb-a06e-1f5ddb1bfb41",
   "metadata": {},
   "source": [
    "# Introduction\n",
    "\n",
    "Pulsars or Pulse Stars are highly magnetized neutron stars that radiate radio-wave emissions of two opposing narrow beams of light that are spinning, which we perceive on earth as blinking (Cofield, 2016). Each pulsar star emits a different emission pattern that varies with each of its rotations, therefore whenever there is a signal detection, or “candidate”, it is averaged over several rotations of the pulse star (Lyon, 2017). Each of these candidates are potential descriptions of a real pulse star. Radio frequency interference and noise causes is responsible for most detections, the true pulse star signals are challenging to extract (Lyon, 2017).\n",
    "\n",
    "Our data set includes pulsar candidate data. Using this data, we will attempt to predict which of these candidates are legitimate pulsar stars and which are not. Our question is thus: Can we differentiate legitimate pulsar stars from interference and noise using a classification model?\n",
    "\n",
    "Our Data set can be found here: https://archive.ics.uci.edu/ml/datasets/HTRU2\n",
    "\n",
    "This data set includes 9 variables, which are as follows:\n",
    "\n",
    "Mean of the integrated profile.\n",
    "Standard deviation of the integrated profile.\n",
    "Excess kurtosis of the integrated profile.\n",
    "Skewness of the integrated profile.\n",
    "Mean of the DM-SNR curve.\n",
    "Standard deviation of the DM-SNR curve.\n",
    "Excess kurtosis of the DM-SNR curve.\n",
    "Skewness of the DM-SNR curve.\n",
    "Class\n",
    "The integrated profile variables refer to a method used to describe the radiation pulsar stars emit. Individual pulses vary in shape, and their radiation is detected as individual photons which arrive infrequently (Lyne & Graham Smith, 2012). Thus, millions of pulse periods are required to construct the integrated profile (Lyne & Graham-Smith, 2012). The timing of the pulse’s arrival also varies across different radio frequencies. The delay between frequencies is known as dispersion (Krishnan, 2020). DM-SNR, or Dispersion Measure - Signal to noise ratio curves are created to adjust for the effect of these frequency delays (Krishnan, 2020). The variables 1-8 in this dataset thus describe the mean, skewness, standard deviation, and excess kurtosis of the integrated profile and DM-SNR curves. The Class variable refers to whether or not an observation is a pulsar star or not. If Class = 0, the observation is not a pulsar star, while if Class = 1, the observation is a pulsar star."
   ]
  },
  {
   "cell_type": "markdown",
   "id": "85db2322-0f92-4e79-a0a8-16d3c1c6fc13",
   "metadata": {},
   "source": [
    "# Preliminary Exploratory Data Analysis"
   ]
  },
  {
   "cell_type": "code",
   "execution_count": null,
   "id": "7a013653-b2d4-4711-941b-5adef4b98d7c",
   "metadata": {},
   "outputs": [],
   "source": [
    "## install packages\n",
    "#install.packages(\"tidyverse\")\n",
    "#install.packages(\"repr\")\n",
    "#install.packages(\"tidymodels\")\n",
    "#install.packages(\"cowplot\")"
   ]
  },
  {
   "cell_type": "code",
   "execution_count": null,
   "id": "1557fdcf-069d-4900-8033-180cda2ac381",
   "metadata": {},
   "outputs": [],
   "source": [
    "## RUN THIS CELL BEFORE CONTINUING \n",
    "#Note: if the packages not installed, uncomment the previous cell and run it\n",
    "## load packages\n",
    "library(tidyverse)\n",
    "library(repr)\n",
    "library(tidymodels)\n",
    "library(cowplot)"
   ]
  },
  {
   "cell_type": "code",
   "execution_count": null,
   "id": "796bb9b4-6986-4df3-bf58-1318e3ba6d12",
   "metadata": {},
   "outputs": [],
   "source": [
    "## LOADING DATA FROM THE WEB##\n",
    "\n",
    "#link to the zip file we want to download\n",
    "url <- \"https://archive.ics.uci.edu/ml/machine-learning-databases/00372/HTRU2.zip\"\n",
    "\n",
    "#Create temporary file to store zip file and download zip file\n",
    "temp <- tempfile()\n",
    "download.file(url, temp)\n",
    "\n",
    "#read dataset (HTRU_2.csv) from zip file (temp) + give each column appropriate name\n",
    "pulsar_data <- read_csv(unz(temp, \"HTRU_2.csv\"), col_names = c(\"Mean IP\", \n",
    "                                                         \"Standard deviation IP\", \n",
    "                                                         \"Excess kurtosis IP\", \n",
    "                                                         \"Skewness IP\",\n",
    "                                                         \"Mean DM-SNR curve\",\n",
    "                                                         \"Standard deviation DM-SNR curve\",\n",
    "                                                         \"Excess kurtosis DM-SNR curve\",\n",
    "                                                         \"Skewness DM-SNR curve\",\n",
    "                                                         \"Class\"))\n",
    "#Note: IP = Integrated Profile\n",
    "\n",
    "#delete temporary file (because no longer needed)\n",
    "unlink(temp)\n",
    "\n",
    "#display the first 6 rows of our dataset\n",
    "head(pulsar_data)"
   ]
  },
  {
   "cell_type": "code",
   "execution_count": null,
   "id": "f5cf5714-b629-455f-b3d4-53439a4a0ba1",
   "metadata": {},
   "outputs": [],
   "source": [
    "## CLEANING & WRANGLING DATA INTO A TIDY FORMAT ##\n",
    "\n",
    "# make the class column (that determines whether an observation is a pulsar or not) as a factor\n",
    "pulsar_data <- pulsar_data |> \n",
    "        mutate(Class = as_factor(Class))\n",
    "\n",
    "#replace spaces in column names by dots\n",
    "colnames(pulsar_data) = make.names(colnames(pulsar_data))\n",
    "\n",
    "#display the first 6 rows of our now tidy dataset\n",
    "head(pulsar_data)"
   ]
  },
  {
   "cell_type": "code",
   "execution_count": null,
   "id": "f9ba0f03-ed25-4adf-b718-9ab831e1c758",
   "metadata": {},
   "outputs": [],
   "source": [
    "## EXPLORATORY DATA ANALYSIS ##\n",
    "\n",
    "#DO NOT CHANGE THIS (this seed value will makes our results reproductible)\n",
    "set.seed(1)\n",
    "\n",
    "# splitting data into training and testing data\n",
    "pulsar_split <- initial_split(pulsar_data, prop = .75, strata = Class)\n",
    "pulsar_train <- training(pulsar_split)\n",
    "pulsar_test <- testing(pulsar_split)\n",
    "\n",
    "## Summarize training data: \n",
    "\n",
    "# 1. number of observations in each class type\n",
    "pulsar_train_summary <- pulsar_train |> \n",
    "  group_by(Class) |> \n",
    "  summarize( n = n())\n",
    "\n",
    "pulsar_train_summary"
   ]
  },
  {
   "cell_type": "code",
   "execution_count": null,
   "id": "79df595c-e0ff-4547-be47-74e1cedbf2d7",
   "metadata": {},
   "outputs": [],
   "source": [
    "# 2. means of the predictor variables\n",
    "pulsar_predictor_means <- pulsar_train |> \n",
    "  select(-Class) |> \n",
    "  summarize(across(everything(), mean))\n",
    "\n",
    "pulsar_predictor_means"
   ]
  },
  {
   "cell_type": "code",
   "execution_count": null,
   "id": "c5b2b492-5f55-4f57-8e5d-a0323d4e8df0",
   "metadata": {},
   "outputs": [],
   "source": [
    "# 3. number of rows with missing data\n",
    "\n",
    "pulsar_missing_data <- pulsar_train |> \n",
    "    filter_at(pulsar_train |> colnames() |> all_of() |> vars(), any_vars(is.na(.)))\n",
    "\n",
    "number_of_rows_missing <- nrow(pulsar_missing_data)\n",
    "number_of_rows_missing  # there are no missing data in this dataset"
   ]
  },
  {
   "cell_type": "code",
   "execution_count": null,
   "id": "d3b526f8-dfef-47a4-9bf1-844f7840450d",
   "metadata": {},
   "outputs": [],
   "source": [
    "## EXPLORATORY DATA ANALYSIS: VISUALIZATIONS ##\n",
    "\n",
    "# these boxplots show the distribution of observations for each variable and how that relates to the Class of the observation\n",
    "pulsar_boxplot_IPmean <- pulsar_train |> \n",
    "      ggplot(aes(x = Mean.IP, y = Class, fill = Class))+\n",
    "      geom_boxplot()+\n",
    "      labs( x = \"Mean Integrated Profile\" ,\n",
    "            y =  \"Class\") + \n",
    "      coord_flip()+ \n",
    "      scale_fill_discrete(labels = c( \"Not a Pulsar Star\", \"Pulsar Star\"))+\n",
    "      theme(text = element_text(size = 20))\n",
    "\n",
    "pulsar_boxplot_DMSNRmean <- pulsar_train |> \n",
    "      ggplot(aes(x = Mean.DM.SNR.curve, y = Class, fill = Class))+\n",
    "      geom_boxplot()+\n",
    "      labs( x = \"Mean DM-SNR Curve\" ,\n",
    "            y =  \"Class\") + \n",
    "      coord_flip()+ \n",
    "      scale_fill_discrete(labels = c( \"Not a Pulsar Star\", \"Pulsar Star\"))+\n",
    "      theme(text = element_text(size = 20))\n",
    "\n",
    "pulsar_boxplot_SDIP <- pulsar_train |> \n",
    "      ggplot(aes(x = Standard.deviation.IP, y = Class, fill = Class))+\n",
    "      geom_boxplot()+\n",
    "      labs( x = \"Standard deviation Integrated Profile\" ,\n",
    "            y =  \"Class\") + \n",
    "      coord_flip()+ \n",
    "      scale_fill_discrete(labels = c( \"Not a Pulsar Star\", \"Pulsar Star\"))+\n",
    "      theme(text = element_text(size = 20))\n",
    "\n",
    "pulsar_boxplot_SD_DMSNR <- pulsar_train |> \n",
    "      ggplot(aes(x = Standard.deviation.DM.SNR.curve, y = Class, fill = Class))+\n",
    "      geom_boxplot()+\n",
    "      labs( x = \"Standard deviation DM-SNR Curve\" ,\n",
    "            y =  \"Class\") + \n",
    "      coord_flip()+ \n",
    "      scale_fill_discrete(labels = c( \"Not a Pulsar Star\", \"Pulsar Star\"))+\n",
    "      theme(text = element_text(size = 20))\n",
    "\n",
    "pulsar_boxplot_exkur_IP <- pulsar_train |> \n",
    "      ggplot(aes(x =Excess.kurtosis.IP , y = Class, fill = Class))+\n",
    "      geom_boxplot()+\n",
    "      labs( x = \"Excess kurtosis Integrated Profile\" ,\n",
    "            y =  \"Class\") + \n",
    "      coord_flip()+ \n",
    "      scale_fill_discrete(labels = c( \"Not a Pulsar Star\", \"Pulsar Star\"))+\n",
    "      theme(text = element_text(size = 20))\n",
    "\n",
    "pulsar_boxplot_exkur_DMSNR <- pulsar_train |> \n",
    "      ggplot(aes(x = Excess.kurtosis.DM.SNR.curve , y = Class, fill = Class))+\n",
    "      geom_boxplot()+\n",
    "      labs( x = \"Excess kurtosis DM-SNR Curve\" ,\n",
    "            y =  \"Class\") + \n",
    "      coord_flip()+ \n",
    "      scale_fill_discrete(labels = c( \"Not a Pulsar Star\", \"Pulsar Star\"))+\n",
    "      theme(text = element_text(size = 20))\n",
    "\n",
    "pulsar_boxplot_skew_IP <- pulsar_train |> \n",
    "      ggplot(aes(x = Skewness.IP, y = Class, fill = Class))+\n",
    "      geom_boxplot()+\n",
    "      labs( x = \"Skewness Integrated Profile\" ,\n",
    "            y =  \"Class\") + \n",
    "      coord_flip()+ \n",
    "      scale_fill_discrete(labels = c( \"Not a Pulsar Star\", \"Pulsar Star\"))+\n",
    "      theme(text = element_text(size = 20))\n",
    "\n",
    "pulsar_boxplot_skew_DMSNR <- pulsar_train |> \n",
    "      ggplot(aes(x = Skewness.DM.SNR.curve, y = Class, fill = Class))+\n",
    "      geom_boxplot()+\n",
    "      labs( x = \"Skewness DM-SNR Curve\" ,\n",
    "            y =  \"Class\") + \n",
    "      coord_flip()+ \n",
    "      scale_fill_discrete(labels = c( \"Not a Pulsar Star\", \"Pulsar Star\"))+\n",
    "      theme(text = element_text(size = 20))\n",
    "\n",
    "options(repr.plot.width=20, repr.plot.height=20)\n",
    "\n",
    "plot_grid(pulsar_boxplot_IPmean, pulsar_boxplot_DMSNRmean, pulsar_boxplot_SDIP, pulsar_boxplot_SD_DMSNR,pulsar_boxplot_exkur_IP, pulsar_boxplot_exkur_DMSNR, pulsar_boxplot_skew_IP, pulsar_boxplot_skew_DMSNR )\n"
   ]
  },
  {
   "cell_type": "markdown",
   "id": "aba42fd4-dad0-4414-a062-080c53b39200",
   "metadata": {},
   "source": [
    "These 8 plots compare the disributions of observations between means, standard deviation, excess kurtosis and skewness of the DM-SNR profiles and Integrated Profiles across the 2 Classes. For all 8 plots, the potential predictive variable is correlated with Class, although this relationship is weaker for the skewness of the DM-SNR and Integrated Profile variables. However, the difference in medians is most significant for the Mean Integrated Profile, Standard deviation DM-SNR Curve, Excess kurtosis Integrated Profile variables and thus these will be used as our predictive variables. Many of the variables have a large number of outliers, and smaller differences between median values, and were thus not used as predictive variables."
   ]
  },
  {
   "cell_type": "code",
   "execution_count": null,
   "id": "e81d52b3-7c88-4612-87ab-07a1dc72fe26",
   "metadata": {},
   "outputs": [],
   "source": [
    "# create KNN model\n",
    "knn_spec <-nearest_neighbor(weight_func = \"rectangular\", neighbors = tune()) |>\n",
    "        set_engine(\"kknn\") |>\n",
    "        set_mode(\"classification\")\n",
    "\n",
    "# create a recipe\n",
    "recipe <-recipe(Class ~ Mean.IP+Standard.deviation.DM.SNR.curve+Excess.kurtosis.IP , data = pulsar_train)\n"
   ]
  },
  {
   "cell_type": "code",
   "execution_count": null,
   "id": "37d2824a-0b07-42ce-8360-fb8ab76f15a0",
   "metadata": {},
   "outputs": [],
   "source": [
    "# 5 fold cross-validation\n",
    "vfold_train <- vfold_cv(pulsar_train, v = 5, strata = Class)"
   ]
  },
  {
   "cell_type": "code",
   "execution_count": null,
   "id": "d6161663-1970-4b7e-b11f-f962d55133c2",
   "metadata": {},
   "outputs": [],
   "source": [
    "pulsar_fit <- workflow() |> \n",
    "    add_recipe(recipe) |>\n",
    "    add_model(knn_spec) |>\n",
    "    tune_grid(resamples = vfold_train, grid = 10) |>\n",
    "    collect_metrics()\n",
    "\n",
    "kmin <- pulsar_fit |>\n",
    "        filter(.metric == \"accuracy\") |>\n",
    "        filter(mean == max(mean)) |>\n",
    "        select(neighbors) |>\n",
    "        pull()\n",
    "kmin"
   ]
  },
  {
   "cell_type": "markdown",
   "id": "5e934204-fbb0-48b0-9f16-de97ac5f5b57",
   "metadata": {},
   "source": [
    "visualize? -> Ask TA"
   ]
  },
  {
   "cell_type": "code",
   "execution_count": null,
   "id": "d070efd4-7ddf-4d90-bffe-18e7ceaaa8c7",
   "metadata": {},
   "outputs": [],
   "source": [
    "## re-train model with k-value obtained from cross-validation\n",
    "\n",
    "# create KNN model\n",
    "knn_spec2 <-nearest_neighbor(weight_func = \"rectangular\", neighbors = kmin) |>\n",
    "        set_engine(\"kknn\") |>\n",
    "        set_mode(\"classification\")\n",
    "\n",
    "#fit the model \n",
    "pulsar_fit2 <- workflow() |> \n",
    "    add_recipe(recipe) |>\n",
    "    add_model(knn_spec) |>\n",
    "    fit(data = pulsar_train)\n"
   ]
  },
  {
   "cell_type": "code",
   "execution_count": null,
   "id": "5fa8b1ea-d4cc-452e-9eee-13ce1a8b31fb",
   "metadata": {},
   "outputs": [],
   "source": [
    "# evaluate model using testing data\n",
    "pulsar_predictions <- predict(pulsar_fit2 , pulsar_test) |>\n",
    "    bind_cols(pulsar_test) |>\n",
    "    select(y, .pred_class)\n",
    "\n",
    "head(pulsar_predictions)\n",
    "\n",
    "# pull the accuracy metrics \n",
    "pulsar_metrics <-pulsar_predictions |>\n",
    "  metrics(truth = y, estimate = .pred_class) |>\n",
    "    filter(.metric == \"accuracy\") |>\n",
    "    select(.estimate)\n",
    "\n",
    "pulsar_metrics\n",
    "\n",
    "# create a confusion matrix\n",
    "pulsar_conf_mat <-pulsar_predictions |>\n",
    "    conf_mat(truth = y , estimate = .pred_class)\n",
    "\n",
    "pulsar_conf_mat"
   ]
  },
  {
   "cell_type": "markdown",
   "id": "d2b56728-b4eb-470a-b1fe-c6f779a549bd",
   "metadata": {},
   "source": []
  },
  {
   "cell_type": "code",
   "execution_count": null,
   "id": "265d8e57-9d31-43b9-93f9-7e77ee5bbdd5",
   "metadata": {},
   "outputs": [],
   "source": [
    "## Visualization\n"
   ]
  },
  {
   "cell_type": "markdown",
   "id": "19d0c96f-704e-4578-b949-3d89cf8243e1",
   "metadata": {},
   "source": [
    "# Discussion"
   ]
  },
  {
   "cell_type": "markdown",
   "id": "a4d6f1ad-8850-4ccd-9b0c-03313c822de6",
   "metadata": {},
   "source": [
    "\n",
    "summarize what you found\n",
    "\n",
    "discuss whether this is what you expected to find?\n",
    "\n",
    "discuss what impact could such findings have?\n",
    "\n",
    "discuss what future questions could this lead to?"
   ]
  },
  {
   "cell_type": "markdown",
   "id": "8f974fca-f439-49ad-b685-e36ec73d1d47",
   "metadata": {},
   "source": [
    "**References**\n",
    "\n",
    "Cofield, C. (2016, April 22). What are pulsars? Space.com. Retrieved October 27, 2022, from https://www.space.com/32661-pulsars.html \n",
    "\n",
    "Lyne, A., & Graham-Smith, F. (2012). 15 Integrated pulse profiles. In Pulsar Astronomy (Cambridge Astrophysics, pp. 207-229). Cambridge: Cambridge University Press. doi:10.1017/CBO9780511844584.016\n",
    "\n",
    "Lyon, R.J. HTRU2. DOI: 10.6084/m9.figshare.3080389.v1.\n",
    "\n",
    "Lyon, R.J, Stappers, B.W., Cooper, S., Brooke, J.M, Knowles, J.D. (2016). Fifty Years of Pulsar Candidate Selection: From simple filters to a new principled real-time classification approach, *Monthly Notices of the Royal Astronomical Society 459* (1), 1104-1123. DOI: 10.1093/mnras/stw656\n",
    "\n",
    "Krishnan, Sowmya. (2020, September 27). Pulsar candidate classification. Medium. https://medium.com/swlh/pulsar-candidate-classification-a1805a369e17"
   ]
  }
 ],
 "metadata": {
  "kernelspec": {
   "display_name": "R",
   "language": "R",
   "name": "ir"
  },
  "language_info": {
   "codemirror_mode": "r",
   "file_extension": ".r",
   "mimetype": "text/x-r-source",
   "name": "R",
   "pygments_lexer": "r",
   "version": "4.1.3"
  }
 },
 "nbformat": 4,
 "nbformat_minor": 5
}
