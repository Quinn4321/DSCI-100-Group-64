{
 "cells": [
  {
   "cell_type": "markdown",
   "id": "e7e0e027-ec26-4967-9ffc-dbbad8dcbde6",
   "metadata": {},
   "source": [
    "**Group Project Proposal: Pulsar Star Classification**"
   ]
  },
  {
   "cell_type": "markdown",
   "id": "5b0f1e55-bf04-4010-881f-8cb776f8e651",
   "metadata": {},
   "source": [
    "**Introduction**\n",
    "\n",
    "Provide some relevant background information on the topic so that someone unfamiliar with it will be prepared to understand the rest of your proposal\n",
    "\n",
    "Clearly state the question you will try to answer with your project\n",
    "\n",
    "Identify and describe the dataset that will be used to answer the question"
   ]
  },
  {
   "cell_type": "markdown",
   "id": "18e0e47f-4180-4d93-b2dc-dad5d592d841",
   "metadata": {},
   "source": [
    "Preliminary exploratory data analysis:\n",
    "\n",
    "Demonstrate that the dataset can be read from the web into R \n",
    "\n",
    "Clean and wrangle your data into a tidy format\n",
    "\n",
    "Using only training data, summarize the data in at least one table (this is exploratory data analysis). An example of a useful table could be one that reports the number of observations in each class, the means of the predictor variables you plan to use in your analysis and how many rows have missing data. \n",
    "\n",
    "Using only training data, visualize the data with at least one plot relevant to the analysis you plan to do (this is exploratory data analysis). An example of a useful visualization could be one that compares the distributions of each of the predictor variables you plan to use in your analysis."
   ]
  },
  {
   "cell_type": "code",
   "execution_count": null,
   "id": "610e5f32-fe3f-4fae-be77-bbdecb981ed0",
   "metadata": {},
   "outputs": [],
   "source": [
    "## install packages\n",
    "#install.packages(\"tidyverse\")\n"
   ]
  },
  {
   "cell_type": "code",
   "execution_count": 3,
   "id": "6a50079c-6a12-493d-9d6a-6ef169bbd91e",
   "metadata": {},
   "outputs": [
    {
     "name": "stderr",
     "output_type": "stream",
     "text": [
      "── \u001b[1mAttaching packages\u001b[22m ────────────────────────────────────── tidymodels 1.0.0 ──\n",
      "\n",
      "\u001b[32m✔\u001b[39m \u001b[34mbroom       \u001b[39m 1.0.0     \u001b[32m✔\u001b[39m \u001b[34mrsample     \u001b[39m 1.0.0\n",
      "\u001b[32m✔\u001b[39m \u001b[34mdials       \u001b[39m 1.0.0     \u001b[32m✔\u001b[39m \u001b[34mtune        \u001b[39m 1.0.0\n",
      "\u001b[32m✔\u001b[39m \u001b[34minfer       \u001b[39m 1.0.2     \u001b[32m✔\u001b[39m \u001b[34mworkflows   \u001b[39m 1.0.0\n",
      "\u001b[32m✔\u001b[39m \u001b[34mmodeldata   \u001b[39m 1.0.0     \u001b[32m✔\u001b[39m \u001b[34mworkflowsets\u001b[39m 1.0.0\n",
      "\u001b[32m✔\u001b[39m \u001b[34mparsnip     \u001b[39m 1.0.0     \u001b[32m✔\u001b[39m \u001b[34myardstick   \u001b[39m 1.0.0\n",
      "\u001b[32m✔\u001b[39m \u001b[34mrecipes     \u001b[39m 1.0.1     \n",
      "\n",
      "── \u001b[1mConflicts\u001b[22m ───────────────────────────────────────── tidymodels_conflicts() ──\n",
      "\u001b[31m✖\u001b[39m \u001b[34mscales\u001b[39m::\u001b[32mdiscard()\u001b[39m masks \u001b[34mpurrr\u001b[39m::discard()\n",
      "\u001b[31m✖\u001b[39m \u001b[34mdplyr\u001b[39m::\u001b[32mfilter()\u001b[39m   masks \u001b[34mstats\u001b[39m::filter()\n",
      "\u001b[31m✖\u001b[39m \u001b[34mrecipes\u001b[39m::\u001b[32mfixed()\u001b[39m  masks \u001b[34mstringr\u001b[39m::fixed()\n",
      "\u001b[31m✖\u001b[39m \u001b[34mdplyr\u001b[39m::\u001b[32mlag()\u001b[39m      masks \u001b[34mstats\u001b[39m::lag()\n",
      "\u001b[31m✖\u001b[39m \u001b[34myardstick\u001b[39m::\u001b[32mspec()\u001b[39m masks \u001b[34mreadr\u001b[39m::spec()\n",
      "\u001b[31m✖\u001b[39m \u001b[34mrecipes\u001b[39m::\u001b[32mstep()\u001b[39m   masks \u001b[34mstats\u001b[39m::step()\n",
      "\u001b[34m•\u001b[39m Learn how to get started at \u001b[32mhttps://www.tidymodels.org/start/\u001b[39m\n",
      "\n"
     ]
    }
   ],
   "source": [
    "## load packages\n",
    "library(tidyverse)\n",
    "library(repr)\n",
    "library(tidymodels)"
   ]
  },
  {
   "cell_type": "code",
   "execution_count": 47,
   "id": "80b071a4-a411-4c73-ab72-173dfe76a3fe",
   "metadata": {},
   "outputs": [
    {
     "name": "stderr",
     "output_type": "stream",
     "text": [
      "\u001b[1mRows: \u001b[22m\u001b[34m17898\u001b[39m \u001b[1mColumns: \u001b[22m\u001b[34m9\u001b[39m\n",
      "\u001b[36m──\u001b[39m \u001b[1mColumn specification\u001b[22m \u001b[36m────────────────────────────────────────────────────────\u001b[39m\n",
      "\u001b[1mDelimiter:\u001b[22m \",\"\n",
      "\u001b[32mdbl\u001b[39m (9): Mean integrated profile, Standard deviation integrated profile, Exc...\n",
      "\n",
      "\u001b[36mℹ\u001b[39m Use `spec()` to retrieve the full column specification for this data.\n",
      "\u001b[36mℹ\u001b[39m Specify the column types or set `show_col_types = FALSE` to quiet this message.\n"
     ]
    },
    {
     "data": {
      "text/html": [
       "<table class=\"dataframe\">\n",
       "<caption>A tibble: 2 × 2</caption>\n",
       "<thead>\n",
       "\t<tr><th scope=col>Class</th><th scope=col>n</th></tr>\n",
       "\t<tr><th scope=col>&lt;fct&gt;</th><th scope=col>&lt;int&gt;</th></tr>\n",
       "</thead>\n",
       "<tbody>\n",
       "\t<tr><td>0</td><td>12192</td></tr>\n",
       "\t<tr><td>1</td><td> 1231</td></tr>\n",
       "</tbody>\n",
       "</table>\n"
      ],
      "text/latex": [
       "A tibble: 2 × 2\n",
       "\\begin{tabular}{ll}\n",
       " Class & n\\\\\n",
       " <fct> & <int>\\\\\n",
       "\\hline\n",
       "\t 0 & 12192\\\\\n",
       "\t 1 &  1231\\\\\n",
       "\\end{tabular}\n"
      ],
      "text/markdown": [
       "\n",
       "A tibble: 2 × 2\n",
       "\n",
       "| Class &lt;fct&gt; | n &lt;int&gt; |\n",
       "|---|---|\n",
       "| 0 | 12192 |\n",
       "| 1 |  1231 |\n",
       "\n"
      ],
      "text/plain": [
       "  Class n    \n",
       "1 0     12192\n",
       "2 1      1231"
      ]
     },
     "metadata": {},
     "output_type": "display_data"
    },
    {
     "data": {
      "text/html": [
       "<table class=\"dataframe\">\n",
       "<caption>A tibble: 1 × 8</caption>\n",
       "<thead>\n",
       "\t<tr><th scope=col>Mean.integrated.profile</th><th scope=col>Standard.deviation.integrated.profile</th><th scope=col>Excess.kurtosis.integrated.profile</th><th scope=col>Skewness.integrated.profile</th><th scope=col>Mean.DM.SNR.curve</th><th scope=col>Standard.deviation.DM.SNR.curve</th><th scope=col>Excess.kurtosis.DM.SNR.curve</th><th scope=col>Skewness.DM.SNR.curve</th></tr>\n",
       "\t<tr><th scope=col>&lt;dbl&gt;</th><th scope=col>&lt;dbl&gt;</th><th scope=col>&lt;dbl&gt;</th><th scope=col>&lt;dbl&gt;</th><th scope=col>&lt;dbl&gt;</th><th scope=col>&lt;dbl&gt;</th><th scope=col>&lt;dbl&gt;</th><th scope=col>&lt;dbl&gt;</th></tr>\n",
       "</thead>\n",
       "<tbody>\n",
       "\t<tr><td>110.958</td><td>46.52722</td><td>0.4827907</td><td>1.806578</td><td>12.5644</td><td>26.34006</td><td>8.299918</td><td>104.8452</td></tr>\n",
       "</tbody>\n",
       "</table>\n"
      ],
      "text/latex": [
       "A tibble: 1 × 8\n",
       "\\begin{tabular}{llllllll}\n",
       " Mean.integrated.profile & Standard.deviation.integrated.profile & Excess.kurtosis.integrated.profile & Skewness.integrated.profile & Mean.DM.SNR.curve & Standard.deviation.DM.SNR.curve & Excess.kurtosis.DM.SNR.curve & Skewness.DM.SNR.curve\\\\\n",
       " <dbl> & <dbl> & <dbl> & <dbl> & <dbl> & <dbl> & <dbl> & <dbl>\\\\\n",
       "\\hline\n",
       "\t 110.958 & 46.52722 & 0.4827907 & 1.806578 & 12.5644 & 26.34006 & 8.299918 & 104.8452\\\\\n",
       "\\end{tabular}\n"
      ],
      "text/markdown": [
       "\n",
       "A tibble: 1 × 8\n",
       "\n",
       "| Mean.integrated.profile &lt;dbl&gt; | Standard.deviation.integrated.profile &lt;dbl&gt; | Excess.kurtosis.integrated.profile &lt;dbl&gt; | Skewness.integrated.profile &lt;dbl&gt; | Mean.DM.SNR.curve &lt;dbl&gt; | Standard.deviation.DM.SNR.curve &lt;dbl&gt; | Excess.kurtosis.DM.SNR.curve &lt;dbl&gt; | Skewness.DM.SNR.curve &lt;dbl&gt; |\n",
       "|---|---|---|---|---|---|---|---|\n",
       "| 110.958 | 46.52722 | 0.4827907 | 1.806578 | 12.5644 | 26.34006 | 8.299918 | 104.8452 |\n",
       "\n"
      ],
      "text/plain": [
       "  Mean.integrated.profile Standard.deviation.integrated.profile\n",
       "1 110.958                 46.52722                             \n",
       "  Excess.kurtosis.integrated.profile Skewness.integrated.profile\n",
       "1 0.4827907                          1.806578                   \n",
       "  Mean.DM.SNR.curve Standard.deviation.DM.SNR.curve\n",
       "1 12.5644           26.34006                       \n",
       "  Excess.kurtosis.DM.SNR.curve Skewness.DM.SNR.curve\n",
       "1 8.299918                     104.8452             "
      ]
     },
     "metadata": {},
     "output_type": "display_data"
    },
    {
     "data": {
      "text/html": [
       "0"
      ],
      "text/latex": [
       "0"
      ],
      "text/markdown": [
       "0"
      ],
      "text/plain": [
       "[1] 0"
      ]
     },
     "metadata": {},
     "output_type": "display_data"
    }
   ],
   "source": [
    "\n",
    "\n",
    "## LOADING DATA ##\n",
    "\n",
    "url <- \"https://archive.ics.uci.edu/ml/machine-learning-databases/00372/HTRU2.zip\"\n",
    "#Create temporary file to store zip file and download zip file\n",
    "temp <- tempfile()\n",
    "download.file(url, temp)\n",
    "\n",
    "#read dataset (HTRU_2.csv) from zip file (temp) + give each column appropriate name\n",
    "pulsar_data <- read_csv(unz(temp, \"HTRU_2.csv\"), col_names = c(\"Mean integrated profile\", \n",
    "                                                         \"Standard deviation integrated profile\", \n",
    "                                                         \"Excess kurtosis integrated profile\", \n",
    "                                                         \"Skewness integrated profile\",\n",
    "                                                         \"Mean DM-SNR curve\",\n",
    "                                                         \"Standard deviation DM-SNR curve\",\n",
    "                                                         \"Excess kurtosis DM-SNR curve\",\n",
    "                                                         \"Skewness DM-SNR curve\",\n",
    "                                                         \"Class\"))\n",
    "#delete temporary file (because no longer needed)\n",
    "unlink(temp)\n",
    "\n",
    "\n",
    "## CLEANING & WRANGLING DATA INTO A TIDY FORMAT ##\n",
    "\n",
    "# make the class column (that determines whether an observation is a pulsar or not) as a factor\n",
    "pulsar_data <- pulsar_data %>% \n",
    "        mutate(Class = as_factor(Class))\n",
    "\n",
    "#replace spaces in column names by dots\n",
    "colnames(pulsar_data) = make.names(colnames(pulsar_data))\n",
    "\n",
    "## EXPLORATORY DATA ANALYSIS ##\n",
    "\n",
    "# splitting data into training and testing data\n",
    "\n",
    "pulsar_split <- initial_split(pulsar_data, prop = .75, strata = Class)\n",
    "pulsar_train <- training(pulsar_split)\n",
    "pulsar_test <- testing(pulsar_split)\n",
    "\n",
    "## summarize training data\n",
    "\n",
    "# umber of observations in each class type\n",
    "pulsar_train_summary <- pulsar_train %>% \n",
    "  group_by(Class) %>% \n",
    "  summarize( n = n())\n",
    "\n",
    "pulsar_train_summary\n",
    "\n",
    "# means of the predictor variables\n",
    "pulsar_predictor_means <- pulsar_train %>% \n",
    "  select(-Class) %>% \n",
    "  summarize(across(everything(), mean))\n",
    "\n",
    "pulsar_predictor_means\n",
    "\n",
    "# number of rows with missing data\n",
    "\n",
    "pulsar_missing_data <- pulsar_train %>% \n",
    "    filter_at(vars(all_of(colnames(pulsar_train))), any_vars(is.na(.)))\n",
    "\n",
    "number_of_rows_missing <- nrow(pulsar_missing_data)\n",
    "number_of_rows_missing  # there are no missing data in this dataset\n",
    "\n",
    "\n",
    "\n"
   ]
  },
  {
   "cell_type": "markdown",
   "id": "50819144-8e41-4599-9b95-c84ff1d9942b",
   "metadata": {},
   "source": [
    "**Methods**\n",
    "\n",
    "Explain how you will conduct either your data analysis and which variables/columns you will use. Note - you do not need to use all variables/columns that exist in the raw data set. In fact, that's often not a good idea. For each variable think: is this a useful variable for prediction?\n",
    "\n",
    "Describe at least one way that you will visualize the results"
   ]
  },
  {
   "cell_type": "markdown",
   "id": "f631e27d-77f1-44d1-aa8b-f13dba01cb5d",
   "metadata": {},
   "source": [
    "**Expected outcomes and significance**\n",
    "\n",
    "What do you expect to find?\n",
    "\n",
    "What impact could such findings have?\n",
    "\n",
    "What future questions could this lead to?"
   ]
  },
  {
   "cell_type": "code",
   "execution_count": null,
   "id": "5e7641ba-b730-481b-bbac-f26fdec325a4",
   "metadata": {},
   "outputs": [],
   "source": []
  }
 ],
 "metadata": {
  "kernelspec": {
   "display_name": "R",
   "language": "R",
   "name": "ir"
  },
  "language_info": {
   "codemirror_mode": "r",
   "file_extension": ".r",
   "mimetype": "text/x-r-source",
   "name": "R",
   "pygments_lexer": "r",
   "version": "4.1.3"
  }
 },
 "nbformat": 4,
 "nbformat_minor": 5
}
