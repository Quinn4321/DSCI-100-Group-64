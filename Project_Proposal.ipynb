{
 "cells": [
  {
   "cell_type": "markdown",
   "id": "e7e0e027-ec26-4967-9ffc-dbbad8dcbde6",
   "metadata": {},
   "source": [
    "TITLE Group Project Proposal"
   ]
  },
  {
   "cell_type": "markdown",
   "id": "5b0f1e55-bf04-4010-881f-8cb776f8e651",
   "metadata": {},
   "source": [
    "Introduction\n",
    "\n",
    "Provide some relevant background information on the topic so that someone unfamiliar with it will be prepared to understand the rest of your proposal\n",
    "Clearly state the question you will try to answer with your project\n",
    "Identify and describe the dataset that will be used to answer the question"
   ]
  },
  {
   "cell_type": "markdown",
   "id": "18e0e47f-4180-4d93-b2dc-dad5d592d841",
   "metadata": {},
   "source": [
    "Preliminary exploratory data analysis:\n",
    "\n",
    "Demonstrate that the dataset can be read from the web into R \n",
    "\n",
    "Clean and wrangle your data into a tidy format\n",
    "\n",
    "Using only training data, summarize the data in at least one table (this is exploratory data analysis). An example of a useful table could be one that reports the number of observations in each class, the means of the predictor variables you plan to use in your analysis and how many rows have missing data. \n",
    "\n",
    "Using only training data, visualize the data with at least one plot relevant to the analysis you plan to do (this is exploratory data analysis). An example of a useful visualization could be one that compares the distributions of each of the predictor variables you plan to use in your analysis."
   ]
  },
  {
   "cell_type": "code",
   "execution_count": 2,
   "id": "e5e3868e-9b3b-4caf-84bb-203c97a8b446",
   "metadata": {},
   "outputs": [
    {
     "ename": "NameError",
     "evalue": "name 'install' is not defined",
     "output_type": "error",
     "traceback": [
      "\u001b[0;31m---------------------------------------------------------------------------\u001b[0m",
      "\u001b[0;31mNameError\u001b[0m                                 Traceback (most recent call last)",
      "Input \u001b[0;32mIn [2]\u001b[0m, in \u001b[0;36m<cell line: 2>\u001b[0;34m()\u001b[0m\n\u001b[1;32m      1\u001b[0m \u001b[38;5;66;03m# code here\u001b[39;00m\n\u001b[0;32m----> 2\u001b[0m \u001b[43minstall\u001b[49m\u001b[38;5;241m.\u001b[39mpackages(\u001b[38;5;124m\"\u001b[39m\u001b[38;5;124mtidyverse\u001b[39m\u001b[38;5;124m\"\u001b[39m)\n\u001b[1;32m      3\u001b[0m library(tidyverse)\n\u001b[1;32m      5\u001b[0m dataset\n",
      "\u001b[0;31mNameError\u001b[0m: name 'install' is not defined"
     ]
    }
   ],
   "source": [
    "# code here\n",
    "#install.packages(\"tidyverse\")\n",
    "library(tidyverse)\n",
    "\n",
    "dataset<- read_csv()\n",
    "\n",
    "#clean + wrangle data into a tidy format"
   ]
  },
  {
   "cell_type": "markdown",
   "id": "4eea1903-bd2b-4e5c-b544-3664cbb39e77",
   "metadata": {},
   "source": [
    "Methods:\n",
    "\n",
    "Explain how you will conduct either your data analysis and which variables/columns you will use. Note - you do not need to use all variables/columns that exist in the raw data set. In fact, that's often not a good idea. For each variable think: is this a useful variable for prediction?\n",
    "\n",
    "Describe at least one way that you will visualize the results"
   ]
  },
  {
   "cell_type": "markdown",
   "id": "f631e27d-77f1-44d1-aa8b-f13dba01cb5d",
   "metadata": {},
   "source": [
    "Expected outcomes and significance:\n",
    "\n",
    "What do you expect to find?\n",
    "\n",
    "What impact could such findings have?\n",
    "\n",
    "What future questions could this lead to?"
   ]
  }
 ],
 "metadata": {
  "kernelspec": {
   "display_name": "Python 3 (ipykernel)",
   "language": "python",
   "name": "python3"
  },
  "language_info": {
   "codemirror_mode": {
    "name": "ipython",
    "version": 3
   },
   "file_extension": ".py",
   "mimetype": "text/x-python",
   "name": "python",
   "nbconvert_exporter": "python",
   "pygments_lexer": "ipython3",
   "version": "3.10.5"
  }
 },
 "nbformat": 4,
 "nbformat_minor": 5
}
