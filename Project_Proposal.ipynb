{
 "cells": [
  {
   "cell_type": "markdown",
   "id": "e7e0e027-ec26-4967-9ffc-dbbad8dcbde6",
   "metadata": {},
   "source": [
    "TITLE Group Project Proposal"
   ]
  },
  {
   "cell_type": "markdown",
   "id": "5b0f1e55-bf04-4010-881f-8cb776f8e651",
   "metadata": {},
   "source": [
    "Introduction\n",
    "\n",
    "Provide some relevant background information on the topic so that someone unfamiliar with it will be prepared to understand the rest of your proposal\n",
    "Clearly state the question you will try to answer with your project\n",
    "Identify and describe the dataset that will be used to answer the question"
   ]
  },
  {
   "cell_type": "markdown",
   "id": "18e0e47f-4180-4d93-b2dc-dad5d592d841",
   "metadata": {},
   "source": [
    "Preliminary exploratory data analysis:\n",
    "\n",
    "Demonstrate that the dataset can be read from the web into R \n",
    "\n",
    "Clean and wrangle your data into a tidy format\n",
    "\n",
    "Using only training data, summarize the data in at least one table (this is exploratory data analysis). An example of a useful table could be one that reports the number of observations in each class, the means of the predictor variables you plan to use in your analysis and how many rows have missing data. \n",
    "\n",
    "Using only training data, visualize the data with at least one plot relevant to the analysis you plan to do (this is exploratory data analysis). An example of a useful visualization could be one that compares the distributions of each of the predictor variables you plan to use in your analysis."
   ]
  },
  {
   "cell_type": "code",
   "execution_count": null,
   "id": "e5e3868e-9b3b-4caf-84bb-203c97a8b446",
   "metadata": {},
   "outputs": [
    {
     "name": "stderr",
     "output_type": "stream",
     "text": [
      "\u001b[1mRows: \u001b[22m\u001b[34m17898\u001b[39m \u001b[1mColumns: \u001b[22m\u001b[34m9\u001b[39m\n",
      "\u001b[36m──\u001b[39m \u001b[1mColumn specification\u001b[22m \u001b[36m────────────────────────────────────────────────────────\u001b[39m\n",
      "\u001b[1mDelimiter:\u001b[22m \",\"\n",
      "\u001b[32mdbl\u001b[39m (9): Mean integrated profile, Standard deviation integrated profile, Exc...\n",
      "\n",
      "\u001b[36mℹ\u001b[39m Use `spec()` to retrieve the full column specification for this data.\n",
      "\u001b[36mℹ\u001b[39m Specify the column types or set `show_col_types = FALSE` to quiet this message.\n"
     ]
    }
   ],
   "source": [
    "# code here\n",
    "#install.packages(\"tidyverse\")\n",
    "library(tidyverse)\n",
    "\n",
    "## LOADING DATA ##\n",
    "\n",
    "url <- \"https://archive.ics.uci.edu/ml/machine-learning-databases/00372/HTRU2.zip\"\n",
    "#Create temporary file to store zip file and download zip file\n",
    "temp <- tempfile()\n",
    "download.file(url, temp)\n",
    "\n",
    "#read dataset (HTRU_2.csv) from zip file (temp) + give each column appropriate name\n",
    "pulsar_data <- read_csv(unz(temp, \"HTRU_2.csv\"), col_names = c(\"Mean integrated profile\", \n",
    "                                                         \"Standard deviation integrated profile\", \n",
    "                                                         \"Excess kurtosis integrated profile\", \n",
    "                                                         \"Skewness integrated profile\",\n",
    "                                                         \"Mean DM-SNR curve\",\n",
    "                                                         \"Standard deviation DM-SNR curve\",\n",
    "                                                         \"Excess kurtosis DM-SNR curve\",\n",
    "                                                         \"Skewness DM-SNR curve\",\n",
    "                                                         \"Class\"))\n",
    "#delete temporary file (because no longer needed)\n",
    "unlink(temp)\n",
    "\n",
    "\n",
    "## CLEANING & WRANGLING DATA INTO A TIDY FORMAT ##\n",
    "\n",
    "# make the class column (that determines whether an observation is a pulsar or not) as a factor\n",
    "pulsar_data <- pulsar_data |>\n",
    "        mutate(Class = as_factor(Class))\n",
    "\n",
    "#replace spaces in column names by dots\n",
    "colnames(pulsar_data) = make.names(colnames(pulsar_data))\n",
    "\n"
   ]
  },
  {
   "cell_type": "markdown",
   "id": "4eea1903-bd2b-4e5c-b544-3664cbb39e77",
   "metadata": {},
   "source": [
    "Methods:\n",
    "\n",
    "Explain how you will conduct either your data analysis and which variables/columns you will use. Note - you do not need to use all variables/columns that exist in the raw data set. In fact, that's often not a good idea. For each variable think: is this a useful variable for prediction?\n",
    "\n",
    "Describe at least one way that you will visualize the results"
   ]
  },
  {
   "cell_type": "markdown",
   "id": "f631e27d-77f1-44d1-aa8b-f13dba01cb5d",
   "metadata": {},
   "source": [
    "Expected outcomes and significance:\n",
    "\n",
    "What do you expect to find?\n",
    "\n",
    "What impact could such findings have?\n",
    "\n",
    "What future questions could this lead to?"
   ]
  },
  {
   "cell_type": "code",
   "execution_count": null,
   "id": "5e7641ba-b730-481b-bbac-f26fdec325a4",
   "metadata": {},
   "outputs": [],
   "source": []
  }
 ],
 "metadata": {
  "kernelspec": {
   "display_name": "R",
   "language": "R",
   "name": "ir"
  },
  "language_info": {
   "codemirror_mode": "r",
   "file_extension": ".r",
   "mimetype": "text/x-r-source",
   "name": "R",
   "pygments_lexer": "r",
   "version": "4.1.3"
  }
 },
 "nbformat": 4,
 "nbformat_minor": 5
}
