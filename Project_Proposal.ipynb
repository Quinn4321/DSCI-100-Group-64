{
 "cells": [
  {
   "cell_type": "markdown",
   "id": "e7e0e027-ec26-4967-9ffc-dbbad8dcbde6",
   "metadata": {},
   "source": [
    "**Group Project Proposal: Pulsar Star Classification**"
   ]
  },
  {
   "cell_type": "markdown",
   "id": "5b0f1e55-bf04-4010-881f-8cb776f8e651",
   "metadata": {
    "tags": []
   },
   "source": [
    "**Introduction**\n",
    "\n",
    "   Pulsars or Pulse Stars are highly magnetized neutron stars that radiate radio-wave emissions of two opposing narrow beams of light that are spinning, which we perceive on earth as blinking (Cofield, 2016). Each pulsar star emits a different emission pattern that varies with each of its rotations, therefore whenever there is a signal detection, or “candidate”, it is averaged over several rotations of the pulse star (Lyon, 2017). Each of these candidates are potential descriptions of a real pulse star. Radio frequency  interference and noise causes is responsible for most detections, the true pulse star signals are challenging to extract (Lyon, 2017).\n",
    "\n",
    "   Our data set includes pulsar candidate data. Using this data, we will attempt to predict which of these candidates are legitimate pulsar stars and which are not. Our question is thus: __Can we differentiate legitimate pulsar stars from interference and noise using a classification model?__\n",
    "\n",
    "Our Data set can be found here: https://archive.ics.uci.edu/ml/datasets/HTRU2\n",
    "\n",
    "This data set includes 9 variables, which are as follows:\n",
    "1. Mean of the integrated profile.\n",
    "2. Standard deviation of the integrated profile.\n",
    "3. Excess kurtosis of the integrated profile.\n",
    "4. Skewness of the integrated profile.\n",
    "5. Mean of the DM-SNR curve.\n",
    "6. Standard deviation of the DM-SNR curve.\n",
    "7. Excess kurtosis of the DM-SNR curve.\n",
    "8. Skewness of the DM-SNR curve.\n",
    "9. Class\n",
    "\n",
    "  The integrated profile variables refer to a method used to describe the radiation pulsar stars emit. Individual pulses vary in shape, and their radiation is detected as individual photons which arrive infrequently (Lyne & Graham Smith, 2012). Thus, millions of pulse periods are required to construct the integrated profile (Lyne & Graham-Smith, 2012). The timing of the pulse’s arrival also varies across different radio frequencies. The delay between frequencies is known as dispersion (Krishnan, 2020). DM-SNR, or Dispersion Measure - Signal to noise ratio curves are created to adjust for the effect of these frequency delays (Krishnan, 2020). The variables 1-8 in this dataset thus describe the mean, skewness, standard deviation, and excess kurtosis of the integrated profile and DM-SNR curves. The Class variable refers to whether or not an observation is a pulsar star or not. If Class = 0, the observation is not a pulsar star, while if Class = 1, the observation is a pulsar star.\n",
    "\n"
   ]
  },
  {
   "cell_type": "code",
   "execution_count": 11,
   "id": "610e5f32-fe3f-4fae-be77-bbdecb981ed0",
   "metadata": {},
   "outputs": [],
   "source": [
    "## install packages\n",
    "#install.packages(\"tidyverse\")\n",
    "#install.packages(\"repr\")\n",
    "#install.packages(\"tidymodels\")\n"
   ]
  },
  {
   "cell_type": "code",
   "execution_count": 12,
   "id": "6a50079c-6a12-493d-9d6a-6ef169bbd91e",
   "metadata": {},
   "outputs": [
    {
     "ename": "NameError",
     "evalue": "name 'library' is not defined",
     "output_type": "error",
     "traceback": [
      "\u001b[0;31m---------------------------------------------------------------------------\u001b[0m",
      "\u001b[0;31mNameError\u001b[0m                                 Traceback (most recent call last)",
      "Input \u001b[0;32mIn [12]\u001b[0m, in \u001b[0;36m<cell line: 2>\u001b[0;34m()\u001b[0m\n\u001b[1;32m      1\u001b[0m \u001b[38;5;66;03m## load packages\u001b[39;00m\n\u001b[0;32m----> 2\u001b[0m \u001b[43mlibrary\u001b[49m(tidyverse)\n\u001b[1;32m      3\u001b[0m library(\u001b[38;5;28mrepr\u001b[39m)\n\u001b[1;32m      4\u001b[0m library(tidymodels)\n",
      "\u001b[0;31mNameError\u001b[0m: name 'library' is not defined"
     ]
    }
   ],
   "source": [
    "## load packages\n",
    "library(tidyverse)\n",
    "library(repr)\n",
    "library(tidymodels)"
   ]
  },
  {
   "cell_type": "code",
   "execution_count": 13,
   "id": "f105edc4-27b2-465e-8d94-4a194c940fae",
   "metadata": {},
   "outputs": [
    {
     "ename": "SyntaxError",
     "evalue": "invalid syntax (3977979726.py, line 25)",
     "output_type": "error",
     "traceback": [
      "\u001b[0;36m  Input \u001b[0;32mIn [13]\u001b[0;36m\u001b[0m\n\u001b[0;31m    pulsar_data <- pulsar_data %>%\u001b[0m\n\u001b[0m                                ^\u001b[0m\n\u001b[0;31mSyntaxError\u001b[0m\u001b[0;31m:\u001b[0m invalid syntax\n"
     ]
    }
   ],
   "source": [
    "## LOADING DATA ##\n",
    "\n",
    "url <- \"https://archive.ics.uci.edu/ml/machine-learning-databases/00372/HTRU2.zip\"\n",
    "#Create temporary file to store zip file and download zip file\n",
    "temp <- tempfile()\n",
    "download.file(url, temp)\n",
    "\n",
    "#read dataset (HTRU_2.csv) from zip file (temp) + give each column appropriate name\n",
    "pulsar_data <- read_csv(unz(temp, \"HTRU_2.csv\"), col_names = c(\"Mean integrated profile\", \n",
    "                                                         \"Standard deviation integrated profile\", \n",
    "                                                         \"Excess kurtosis integrated profile\", \n",
    "                                                         \"Skewness integrated profile\",\n",
    "                                                         \"Mean DM-SNR curve\",\n",
    "                                                         \"Standard deviation DM-SNR curve\",\n",
    "                                                         \"Excess kurtosis DM-SNR curve\",\n",
    "                                                         \"Skewness DM-SNR curve\",\n",
    "                                                         \"Class\"))\n",
    "#delete temporary file (because no longer needed)\n",
    "unlink(temp)\n",
    "\n",
    "\n",
    "## CLEANING & WRANGLING DATA INTO A TIDY FORMAT ##\n",
    "\n",
    "# make the class column (that determines whether an observation is a pulsar or not) as a factor\n",
    "pulsar_data <- pulsar_data %>% \n",
    "        mutate(Class = as_factor(Class))\n",
    "\n",
    "#replace spaces in column names by dots\n",
    "colnames(pulsar_data) = make.names(colnames(pulsar_data))"
   ]
  },
  {
   "cell_type": "code",
   "execution_count": 14,
   "id": "d633015b-907f-4816-ad73-9ce9330e70ed",
   "metadata": {},
   "outputs": [
    {
     "ename": "SyntaxError",
     "evalue": "invalid syntax (1346744879.py, line 11)",
     "output_type": "error",
     "traceback": [
      "\u001b[0;36m  Input \u001b[0;32mIn [14]\u001b[0;36m\u001b[0m\n\u001b[0;31m    pulsar_train_summary <- pulsar_train %>%\u001b[0m\n\u001b[0m                                          ^\u001b[0m\n\u001b[0;31mSyntaxError\u001b[0m\u001b[0;31m:\u001b[0m invalid syntax\n"
     ]
    }
   ],
   "source": [
    "## EXPLORATORY DATA ANALYSIS ##\n",
    "\n",
    "set.seed(1)\n",
    "# splitting data into training and testing data\n",
    "\n",
    "pulsar_split <- initial_split(pulsar_data, prop = .75, strata = Class)\n",
    "pulsar_train <- training(pulsar_split)\n",
    "pulsar_test <- testing(pulsar_split)\n",
    "\n",
    "## summarize training data: number of observations in each class type\n",
    "pulsar_train_summary <- pulsar_train %>% \n",
    "  group_by(Class) %>% \n",
    "  summarize( n = n())\n",
    "\n",
    "pulsar_train_summary"
   ]
  },
  {
   "cell_type": "markdown",
   "id": "164f9c8e-1e49-4774-a2f9-734ae2da8eda",
   "metadata": {},
   "source": [
    "The table above shows that there are approximately 10x as many observations that are not pulsar stars as there are pulsar stars."
   ]
  },
  {
   "cell_type": "code",
   "execution_count": 15,
   "id": "b0741b14-86db-4017-80e1-f939f197540e",
   "metadata": {},
   "outputs": [
    {
     "ename": "SyntaxError",
     "evalue": "invalid syntax (66814.py, line 2)",
     "output_type": "error",
     "traceback": [
      "\u001b[0;36m  Input \u001b[0;32mIn [15]\u001b[0;36m\u001b[0m\n\u001b[0;31m    pulsar_predictor_means <- pulsar_train %>%\u001b[0m\n\u001b[0m                                            ^\u001b[0m\n\u001b[0;31mSyntaxError\u001b[0m\u001b[0;31m:\u001b[0m invalid syntax\n"
     ]
    }
   ],
   "source": [
    "# means of the predictor variables\n",
    "pulsar_predictor_means <- pulsar_train %>% \n",
    "  select(-Class) %>% \n",
    "  summarize(across(everything(), mean))\n",
    "\n",
    "pulsar_predictor_means"
   ]
  },
  {
   "cell_type": "markdown",
   "id": "614d8980-f6e2-4135-aa92-eb01f1f95b88",
   "metadata": {},
   "source": [
    "Here, we explored the means of the different predictor variables. The means differ significantly, indicating the data will need to be centred and scaled for use in further analysis. "
   ]
  },
  {
   "cell_type": "code",
   "execution_count": 16,
   "id": "8e5c9f16-5c98-4d4c-a028-062eaaa43cfe",
   "metadata": {},
   "outputs": [
    {
     "ename": "SyntaxError",
     "evalue": "invalid syntax (4216124512.py, line 3)",
     "output_type": "error",
     "traceback": [
      "\u001b[0;36m  Input \u001b[0;32mIn [16]\u001b[0;36m\u001b[0m\n\u001b[0;31m    pulsar_missing_data <- pulsar_train %>%\u001b[0m\n\u001b[0m                                         ^\u001b[0m\n\u001b[0;31mSyntaxError\u001b[0m\u001b[0;31m:\u001b[0m invalid syntax\n"
     ]
    }
   ],
   "source": [
    "# number of rows with missing data\n",
    "\n",
    "pulsar_missing_data <- pulsar_train %>% \n",
    "    filter_at(vars(all_of(colnames(pulsar_train))), any_vars(is.na(.)))\n",
    "\n",
    "number_of_rows_missing <- nrow(pulsar_missing_data)\n",
    "number_of_rows_missing  # there are no missing data in this dataset"
   ]
  },
  {
   "cell_type": "markdown",
   "id": "b8ce3717-1cf5-476a-ae1e-2b98dd7f7e35",
   "metadata": {},
   "source": [
    "In this part of the exploratory analysis, we examined the data to determine if there were observations which were missing data for any variables. However, there were not any observations missing data in our training data set."
   ]
  },
  {
   "cell_type": "code",
   "execution_count": 17,
   "id": "017a5318-70b2-427a-9d26-4df604994eab",
   "metadata": {},
   "outputs": [
    {
     "ename": "SyntaxError",
     "evalue": "invalid syntax (2987931638.py, line 4)",
     "output_type": "error",
     "traceback": [
      "\u001b[0;36m  Input \u001b[0;32mIn [17]\u001b[0;36m\u001b[0m\n\u001b[0;31m    pulsar_plot1 <- pulsar_train %>%\u001b[0m\n\u001b[0m                                  ^\u001b[0m\n\u001b[0;31mSyntaxError\u001b[0m\u001b[0;31m:\u001b[0m invalid syntax\n"
     ]
    }
   ],
   "source": [
    "## EXPLORATORY DATA ANALYSIS: VISUALIZATIONS ##\n",
    "\n",
    "## create a plot comparing the Mean Integrated Profile variable against the Mean DM-SNR Curve variable by Class\n",
    "pulsar_plot1 <- pulsar_train %>% \n",
    "      ggplot(aes(x = Mean.integrated.profile, y = Mean.DM.SNR.curve, colour = Class))+\n",
    "      geom_point()+\n",
    "      labs( x = \"Mean Integrated Profile\" ,\n",
    "            y =  \"Mean DM-SNR Curve\",\n",
    "            colour = \"Class\" )\n",
    "\n",
    "pulsar_plot1"
   ]
  },
  {
   "cell_type": "markdown",
   "id": "50819144-8e41-4599-9b95-c84ff1d9942b",
   "metadata": {},
   "source": [
    "**Methods**\n",
    "\n",
    "Explain how you will conduct either your data analysis and which variables/columns you will use. Note - you do not need to use all variables/columns that exist in the raw data set. In fact, that's often not a good idea. For each variable think: is this a useful variable for prediction?\n",
    "\n",
    "In order to perform our analysis, we will first split the data into training and testing data. We will use K- Nearest Neighbors Classification to create a model which will classify our testing data as a pulsar star or not.  We will first create the model, then use a 5-fold cross-validation technique to determine the K value that gives us the greatest predictive accuracy. Then we will re-train the model with the K-value obtained from the cross-validation process, then evaluate our model using the testing data. \n",
    "\n",
    "Describe at least one way that you will visualize the results\n",
    "\n",
    "To visualize the results, we will create colored prediction map visualization . To do so, we will first create a dataset with 10,000 synthetic new observations (grid with 100 values for both predictors, 100*100 = 10,000), predict each label with our model, and create a scatter plot with a low `alpha` value. This will produce the effect of a colored plot, on top of which we will also plot the observations of the pulsar data. This will allow us to visualize how our model predicts data.\n",
    "\n",
    " -- explain why you are using x and y variables; reference graphs."
   ]
  },
  {
   "cell_type": "markdown",
   "id": "f631e27d-77f1-44d1-aa8b-f13dba01cb5d",
   "metadata": {},
   "source": [
    "**Expected outcomes and significance**\n",
    "\n",
    "What do you expect to find?\n",
    "\n",
    "We are expecting to classify each data sample as pulsar or not pulse stars, as well as the accuracy of the classifier.  \n",
    "\n",
    "What impact could such findings have?\n",
    "\n",
    "The findings could impact how accurate our current methods of predicting legitimate stars from data and impacting ways we could improve on data classification. \n",
    "\n",
    "What future questions could this lead to?\n",
    "\n",
    "To what extent does classifying data accurately predict pulse stars from a group of candidates?\n",
    "What are alternative ways we can predict pulse stars from the data, do those affect the accuracy? \n",
    "What can we improve in methods to differentiate noise and IFRs from the radio emissions from pulse stars?"
   ]
  },
  {
   "cell_type": "markdown",
   "id": "b8f69026-82a8-493a-bca5-2d0a32056333",
   "metadata": {},
   "source": [
    "**References**\n",
    "\n",
    "Lyne, A., & Graham-Smith, F. (2012). 15 Integrated pulse profiles. In Pulsar Astronomy (Cambridge Astrophysics, pp. 207-229). Cambridge: Cambridge University Press. doi:10.1017/CBO9780511844584.016\n",
    "\n",
    "Krishnan, Sowmya. (2020, September 27). Pulsar candidate classification. Medium. https://medium.com/swlh/pulsar-candidate-classification-a1805a369e17"
   ]
  },
  {
   "cell_type": "code",
   "execution_count": null,
   "id": "aa71081e-d73a-404e-9abe-36eb0d4183de",
   "metadata": {},
   "outputs": [],
   "source": []
  },
  {
   "cell_type": "code",
   "execution_count": null,
   "id": "8d1c3d76-7bbb-4d98-ae17-ae34b50694ec",
   "metadata": {},
   "outputs": [],
   "source": []
  }
 ],
 "metadata": {
  "kernelspec": {
   "display_name": "R",
   "language": "R",
   "name": "ir"
  },
  "language_info": {
   "codemirror_mode": "r",
   "file_extension": ".r",
   "mimetype": "text/x-r-source",
   "name": "R",
   "pygments_lexer": "r",
   "version": "4.1.3"
  }
 },
 "nbformat": 4,
 "nbformat_minor": 5
}
